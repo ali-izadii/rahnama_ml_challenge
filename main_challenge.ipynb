{
 "cells": [
  {
   "cell_type": "code",
   "execution_count": 15,
   "id": "25cfa7a2",
   "metadata": {},
   "outputs": [
    {
     "name": "stdout",
     "output_type": "stream",
     "text": [
      "Dimensions: 1000 rows × 10 columns\n",
      "there is missing values\n"
     ]
    }
   ],
   "source": [
    "import pandas as pd\n",
    "\n",
    "data = pd.read_csv(\"challenge.txt\", sep='\\t', header=None)\n",
    "\n",
    "rows, cols = data.shape\n",
    "print(f\"Dimensions: {rows} rows × {cols} columns\")\n",
    "\n",
    "missing = data.isnull().sum().sum()\n",
    "\n",
    "if missing > 0:\n",
    "    print(\"no missiong value\")\n",
    "else:\n",
    "    print(\"there is missing values\")"
   ]
  }
 ],
 "metadata": {
  "kernelspec": {
   "display_name": "machine_learning",
   "language": "python",
   "name": "python3"
  },
  "language_info": {
   "codemirror_mode": {
    "name": "ipython",
    "version": 3
   },
   "file_extension": ".py",
   "mimetype": "text/x-python",
   "name": "python",
   "nbconvert_exporter": "python",
   "pygments_lexer": "ipython3",
   "version": "3.12.6"
  }
 },
 "nbformat": 4,
 "nbformat_minor": 5
}
